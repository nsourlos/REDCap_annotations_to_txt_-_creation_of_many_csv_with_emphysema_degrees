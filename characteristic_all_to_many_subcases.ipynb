{
 "cells": [
  {
   "cell_type": "code",
   "execution_count": 1,
   "id": "859fc5df",
   "metadata": {},
   "outputs": [],
   "source": [
    "# Import required libraries\n",
    "import os\n",
    "import numpy as np\n",
    "import pandas as pd"
   ]
  },
  {
   "cell_type": "code",
   "execution_count": null,
   "id": "17efdde6",
   "metadata": {},
   "outputs": [],
   "source": [
    "# Read emphysema data for all individuals in which emphysema classification was performed\n",
    "emph_all=pd.read_csv(os.getcwd()+'/Emphysema_DATA_12-9.csv')\n",
    "emph_all"
   ]
  },
  {
   "cell_type": "code",
   "execution_count": 3,
   "id": "166aedf9",
   "metadata": {},
   "outputs": [],
   "source": [
    "# Omit 'unverified' cases where the emphysema status is not verified\n",
    "emph_all=emph_all[emph_all['emphysema_specific_complete']==2]"
   ]
  },
  {
   "cell_type": "code",
   "execution_count": 4,
   "id": "1a5a3214",
   "metadata": {},
   "outputs": [],
   "source": [
    "#Find where we have either Fleischner or Extender Fleischner for the whole lung filled\n",
    "# Get the indices of individuals with advanced emphysema\n",
    "all_ind_adv=list(np.where(emph_all['centr_emph_wl_ef']==6)[0])+list(np.where(emph_all['centr_emph_wl_f']==6)[0])\n",
    "\n",
    "# Get the individuals with advanced emphysema and save to csv\n",
    "advanced=emph_all.iloc[all_ind_adv]\n",
    "advanced.to_csv('ImaLife20-AdvancedCentrEmphyNo_DATA_2022-04-07_nikos.csv',index=False)"
   ]
  },
  {
   "cell_type": "code",
   "execution_count": null,
   "id": "e2fdf067",
   "metadata": {},
   "outputs": [],
   "source": [
    "advanced"
   ]
  },
  {
   "attachments": {},
   "cell_type": "markdown",
   "id": "0e7f6a3b",
   "metadata": {},
   "source": [
    "#### Similar for confluent, moderate, mild, trace and no-emphysema"
   ]
  },
  {
   "cell_type": "code",
   "execution_count": 6,
   "id": "ecd0dc37",
   "metadata": {},
   "outputs": [],
   "source": [
    "all_ind_conf=list(np.where(emph_all['centr_emph_wl_ef']==5)[0])+list(np.where(emph_all['centr_emph_wl_f']==5)[0])\n",
    "confluent=emph_all.iloc[all_ind_conf]\n",
    "confluent.to_csv('ImaLife20-ConfluentCentrEmphyN_DATA_2022-04-07_nikos.csv',index=False)"
   ]
  },
  {
   "cell_type": "code",
   "execution_count": null,
   "id": "17d6d99b",
   "metadata": {},
   "outputs": [],
   "source": [
    "confluent"
   ]
  },
  {
   "cell_type": "code",
   "execution_count": 8,
   "id": "09d48510",
   "metadata": {},
   "outputs": [],
   "source": [
    "all_ind_mod=list(np.where(emph_all['centr_emph_wl_ef']==4)[0])+list(np.where(emph_all['centr_emph_wl_f']==4)[0])\n",
    "moderate=emph_all.iloc[all_ind_mod]\n",
    "moderate.to_csv('ImaLife20-ModerateCentrEmphyNo_DATA_2022-04-07_nikos.csv',index=False)"
   ]
  },
  {
   "cell_type": "code",
   "execution_count": null,
   "id": "4302bcf7",
   "metadata": {},
   "outputs": [],
   "source": [
    "moderate"
   ]
  },
  {
   "cell_type": "code",
   "execution_count": 10,
   "id": "bc6331fa",
   "metadata": {},
   "outputs": [],
   "source": [
    "# np.unique(moderate['participant_id']) #List of individuals with moderate emphysema"
   ]
  },
  {
   "cell_type": "code",
   "execution_count": 11,
   "id": "f7d4ca46",
   "metadata": {},
   "outputs": [],
   "source": [
    "# Check if the same participant is in multiple groups (Advanced, Confluent, Moderate)\n",
    "\n",
    "for pat in advanced['participant_id']:\n",
    "    if pat in moderate['participant_id']:\n",
    "        print('The following participant is in Advanced&Moderate emphysema group')\n",
    "        print(pat)\n",
    "    if pat in confluent['participant_id']:\n",
    "        print('The following participant is in Advanced&Confluent emphysema group')\n",
    "        print(pat)\n",
    "        \n",
    "for pat in moderate['participant_id']:\n",
    "    if pat in confluent['participant_id']:\n",
    "        print('The following participant is in Confluent&Moderate emphysema group')\n",
    "        print(pat)        "
   ]
  },
  {
   "cell_type": "code",
   "execution_count": null,
   "id": "5f2f11b4",
   "metadata": {},
   "outputs": [],
   "source": [
    "# Get the indices of individuals with no emphysema\n",
    "\n",
    "all_ind_noemph=list(np.where(emph_all['centr_emph_wl_ef']==1)[0])+list(np.where(emph_all['centr_emph_wl_f']==1)[0])\n",
    "noemph=emph_all.iloc[all_ind_noemph]\n",
    "noemph.to_csv('ImaLife20-NoCentrEmphyNodules_DATA_2022-04-07_nikos.csv',index=False)\n",
    "noemph"
   ]
  },
  {
   "cell_type": "code",
   "execution_count": 13,
   "id": "2f501479",
   "metadata": {},
   "outputs": [],
   "source": [
    "all_ind_mild=list(np.where(emph_all['centr_emph_wl_ef']==3)[0])+list(np.where(emph_all['centr_emph_wl_f']==3)[0])\n",
    "mild=emph_all.iloc[all_ind_mild]\n",
    "mild.to_csv('ImaLife20-MidCentrEmphyNodules_DATA_2022-04-07_nikos.csv',index=False)"
   ]
  },
  {
   "cell_type": "code",
   "execution_count": 14,
   "id": "638bd46d",
   "metadata": {},
   "outputs": [],
   "source": [
    "all_ind_trace=list(np.where(emph_all['centr_emph_wl_ef']==2)[0])+list(np.where(emph_all['centr_emph_wl_f']==2)[0])\n",
    "trace=emph_all.iloc[all_ind_trace]\n",
    "trace.to_csv('ImaLife20-TraceCentrEmphyNodul_DATA_2022-04-07_nikos.csv',index=False)"
   ]
  },
  {
   "cell_type": "code",
   "execution_count": 15,
   "id": "5d17283e",
   "metadata": {},
   "outputs": [],
   "source": [
    "##Possible values for emphysema - Should be 1-6\n",
    "# np.unique(emph_all['centr_emph_wl_ef']) \n",
    "# np.unique(emph_all['centr_emph_wl_f'])"
   ]
  }
 ],
 "metadata": {
  "kernelspec": {
   "display_name": "Python 3 (ipykernel)",
   "language": "python",
   "name": "python3"
  },
  "language_info": {
   "codemirror_mode": {
    "name": "ipython",
    "version": 3
   },
   "file_extension": ".py",
   "mimetype": "text/x-python",
   "name": "python",
   "nbconvert_exporter": "python",
   "pygments_lexer": "ipython3",
   "version": "3.9.12"
  }
 },
 "nbformat": 4,
 "nbformat_minor": 5
}
